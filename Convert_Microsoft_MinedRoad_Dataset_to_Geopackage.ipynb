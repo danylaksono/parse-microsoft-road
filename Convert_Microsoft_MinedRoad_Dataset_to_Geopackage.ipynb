{
  "nbformat": 4,
  "nbformat_minor": 0,
  "metadata": {
    "colab": {
      "provenance": [],
      "toc_visible": true
    },
    "kernelspec": {
      "name": "python3",
      "display_name": "Python 3"
    },
    "language_info": {
      "name": "python"
    }
  },
  "cells": [
    {
      "cell_type": "markdown",
      "source": [
        "# Parse Microsoft Mined Road as GPKG\n",
        "\n",
        "[Microsoft's RoadDetection Github](https://github.com/microsoft/RoadDetections) repo contain road network extracted using deep learning methods from satellite imagery. The data is a TSV format, which requires further processing. This script convert given url containing zip file from Microsoft's Github repository, subsequently convert them to Geopackage for easier processing and visualization in QGIS."
      ],
      "metadata": {
        "id": "5yn3_BMwozqR"
      }
    },
    {
      "cell_type": "markdown",
      "source": [
        "## Preparation\n",
        "\n",
        "Setup libraries and the url. Change the url accordingly (get them from the repo: https://github.com/microsoft/RoadDetections)"
      ],
      "metadata": {
        "id": "Y4n86oJiptnA"
      }
    },
    {
      "cell_type": "code",
      "source": [
        "!pip install geopandas --quiet"
      ],
      "metadata": {
        "id": "XoyMNOk9pvtv"
      },
      "execution_count": 2,
      "outputs": []
    },
    {
      "cell_type": "markdown",
      "source": [
        "**Change the URL** below based on regions from the repo above."
      ],
      "metadata": {
        "id": "HfYms4DrKtqo"
      }
    },
    {
      "cell_type": "code",
      "execution_count": 3,
      "metadata": {
        "id": "VzDaUFAoovcC"
      },
      "outputs": [],
      "source": [
        "# Change the URL here\n",
        "\n",
        "url = 'https://usaminedroads.blob.core.windows.net/road-detections/AsiaSouthEast-Full.zip'"
      ]
    },
    {
      "cell_type": "code",
      "source": [
        "# extract filename from link above\n",
        "filename = url.split('/')[4]\n",
        "filename = filename.split('.')[0] + '.tsv'\n",
        "\n",
        "print(filename)"
      ],
      "metadata": {
        "colab": {
          "base_uri": "https://localhost:8080/"
        },
        "id": "q0Bxil8Sq6Oa",
        "outputId": "3c217f18-935d-4c6f-c629-ef545248dc89"
      },
      "execution_count": 4,
      "outputs": [
        {
          "output_type": "stream",
          "name": "stdout",
          "text": [
            "AsiaSouthEast-Full.tsv\n"
          ]
        }
      ]
    },
    {
      "cell_type": "markdown",
      "source": [
        "## Extract Data on Selected Country\n",
        "\n",
        "Download file the from URL above, extract zip file, convert them to pandas dataframe"
      ],
      "metadata": {
        "id": "b3ndoCl5px_D"
      }
    },
    {
      "cell_type": "code",
      "source": [
        "# Download the data\n",
        "import requests\n",
        "import zipfile\n",
        "\n",
        "# Download the ZIP file\n",
        "response = requests.get(url)\n",
        "\n",
        "# Save the ZIP file to a local file\n",
        "open(\"file.zip\", \"wb\").write(response.content)\n",
        "\n",
        "# Open the ZIP file\n",
        "zip_ref = zipfile.ZipFile(\"file.zip\", \"r\")\n",
        "\n",
        "# Extract the contents of the ZIP file to the current directory\n",
        "zip_ref.extractall()\n",
        "\n",
        "# Close the ZIP file\n",
        "zip_ref.close()"
      ],
      "metadata": {
        "id": "aPMe7TwPo3GP"
      },
      "execution_count": 3,
      "outputs": []
    },
    {
      "cell_type": "markdown",
      "source": [
        "Convert the extracted TSV file to pandas Dataframe. If the dataset is too large, use Dask instead of Pandas"
      ],
      "metadata": {
        "id": "_3J4NqiiKLiv"
      }
    },
    {
      "cell_type": "code",
      "source": [
        "import pandas as pd\n",
        "\n",
        "# Read the TSV file\n",
        "df = pd.read_csv(filename, sep=\"\\t\", names=[\"country_id\", \"geometry\"], header=None)\n",
        "\n",
        "# Print the first 5 rows of the DataFrame\n",
        "print(df.head())\n"
      ],
      "metadata": {
        "colab": {
          "base_uri": "https://localhost:8080/"
        },
        "id": "S8Va98Rgquqa",
        "outputId": "c92f2aff-732f-4fe2-8ae8-9494cbc3bd3a"
      },
      "execution_count": 5,
      "outputs": [
        {
          "output_type": "stream",
          "name": "stdout",
          "text": [
            "  country_id                                               geom\n",
            "0        IDN  {\"type\":\"Feature\",\"geometry\":{\"type\":\"LineStri...\n",
            "1        IDN  {\"type\":\"Feature\",\"geometry\":{\"type\":\"LineStri...\n",
            "2        IDN  {\"type\":\"Feature\",\"geometry\":{\"type\":\"LineStri...\n",
            "3        IDN  {\"type\":\"Feature\",\"geometry\":{\"type\":\"LineStri...\n",
            "4        IDN  {\"type\":\"Feature\",\"geometry\":{\"type\":\"LineStri...\n"
          ]
        }
      ]
    },
    {
      "cell_type": "markdown",
      "source": [
        "List all the country codes from the file. Link for reference: https://en.wikipedia.org/wiki/ISO_3166-1_alpha-3"
      ],
      "metadata": {
        "id": "q6ewLVteKW1H"
      }
    },
    {
      "cell_type": "code",
      "source": [
        "# list country code from the downloaded file\n",
        "list_of_countries = df[\"country_id\"].unique()\n",
        "print(\"List of Countries: \\r\\n\", list_of_countries)\n",
        "\n",
        "# Number of extracted road segments per country\n",
        "data_per_country = df[\"country_id\"].value_counts()\n",
        "print(\"\\r\\nData per Country:\\r\\n\", data_per_country)"
      ],
      "metadata": {
        "colab": {
          "base_uri": "https://localhost:8080/"
        },
        "id": "uMezo6_ErbU5",
        "outputId": "391b8968-bad6-4d16-a908-45cd8b25448e"
      },
      "execution_count": 10,
      "outputs": [
        {
          "output_type": "stream",
          "name": "stdout",
          "text": [
            "List of Countries: \r\n",
            " ['IDN' 'TWN' 'BRN' 'KHM' 'TLS' 'MYS' 'LAO' 'PHL' 'MMR' 'SGP' 'VNM' 'THA']\n",
            "\r\n",
            "Data per Country:\r\n",
            " IDN    4027800\n",
            "THA    2296891\n",
            "MYS    1343149\n",
            "VNM    1252233\n",
            "PHL    1081034\n",
            "MMR     840823\n",
            "TWN     528394\n",
            "KHM     260713\n",
            "LAO     150289\n",
            "SGP      32656\n",
            "BRN      23146\n",
            "TLS      10113\n",
            "Name: country_id, dtype: int64\n"
          ]
        }
      ]
    },
    {
      "cell_type": "markdown",
      "source": [
        "**Change the selected country** below based on the country code. "
      ],
      "metadata": {
        "id": "XRTJnQipKh4Z"
      }
    },
    {
      "cell_type": "code",
      "source": [
        "# change selected country accordingly\n",
        "selected_country = 'IDN'"
      ],
      "metadata": {
        "id": "_fSJUhUbufRL"
      },
      "execution_count": 11,
      "outputs": []
    },
    {
      "cell_type": "code",
      "source": [
        "# Slice the dataframe\n",
        "selected_data = df.loc[df[\"country_id\"] == selected_country, :]\n",
        "print(len(selected_data))\n",
        "print(selected_data.head())"
      ],
      "metadata": {
        "colab": {
          "base_uri": "https://localhost:8080/"
        },
        "id": "qoJBPvSnuMsL",
        "outputId": "b51dba9d-81ae-41a2-fb6d-71e07ff3528c"
      },
      "execution_count": 12,
      "outputs": [
        {
          "output_type": "stream",
          "name": "stdout",
          "text": [
            "4027800\n",
            "  country_id                                               geom\n",
            "0        IDN  {\"type\":\"Feature\",\"geometry\":{\"type\":\"LineStri...\n",
            "1        IDN  {\"type\":\"Feature\",\"geometry\":{\"type\":\"LineStri...\n",
            "2        IDN  {\"type\":\"Feature\",\"geometry\":{\"type\":\"LineStri...\n",
            "3        IDN  {\"type\":\"Feature\",\"geometry\":{\"type\":\"LineStri...\n",
            "4        IDN  {\"type\":\"Feature\",\"geometry\":{\"type\":\"LineStri...\n"
          ]
        }
      ]
    },
    {
      "cell_type": "markdown",
      "source": [
        "## Processing \n",
        "\n",
        "Extract geometry from Pandas, convert the geometry to geopandas dataframe and save the resulting GPKG"
      ],
      "metadata": {
        "id": "P1kQibMKu6yu"
      }
    },
    {
      "cell_type": "code",
      "source": [
        "import geopandas as gpd\n",
        "import pandas as pd\n",
        "import json\n",
        "from shapely.geometry import shape"
      ],
      "metadata": {
        "id": "RzGbrt-muwZz"
      },
      "execution_count": 13,
      "outputs": []
    },
    {
      "cell_type": "code",
      "source": [
        "# define function for parsing \n",
        "\n",
        "def parse_geom(geom_str):\n",
        "    try:\n",
        "        return shape(json.loads(geom_str)[\"geometry\"])\n",
        "    except:  # Handle NaN and empty strings\n",
        "        return None"
      ],
      "metadata": {
        "id": "coUb7LTQve9U"
      },
      "execution_count": 14,
      "outputs": []
    },
    {
      "cell_type": "code",
      "source": [
        "# Convert the column to shapely WKT geometry\n",
        "# take some time to process\n",
        "%%timeit\n",
        "selected_data[\"geometry\"] = selected_data[\"geometry\"].apply(parse_geom)\n"
      ],
      "metadata": {
        "colab": {
          "base_uri": "https://localhost:8080/"
        },
        "id": "SrdhPZ7OvTG7",
        "outputId": "cf2f6fb4-6963-49ca-d5fe-e63494cdd7a2"
      },
      "execution_count": 15,
      "outputs": [
        {
          "output_type": "stream",
          "name": "stderr",
          "text": [
            "<ipython-input-15-483a50f030d2>:1: SettingWithCopyWarning: \n",
            "A value is trying to be set on a copy of a slice from a DataFrame.\n",
            "Try using .loc[row_indexer,col_indexer] = value instead\n",
            "\n",
            "See the caveats in the documentation: https://pandas.pydata.org/pandas-docs/stable/user_guide/indexing.html#returning-a-view-versus-a-copy\n",
            "  selected_data[\"geometry\"] = selected_data[\"geom\"].apply(parse_geom)\n"
          ]
        }
      ]
    },
    {
      "cell_type": "code",
      "source": [
        "# display the selected data\n",
        "selected_data.head()"
      ],
      "metadata": {
        "colab": {
          "base_uri": "https://localhost:8080/",
          "height": 206
        },
        "id": "jRMFwDap-76F",
        "outputId": "da8a28eb-e3a1-43db-9694-ac97ba8f6057"
      },
      "execution_count": 16,
      "outputs": [
        {
          "output_type": "execute_result",
          "data": {
            "text/plain": [
              "  country_id                                               geom  \\\n",
              "0        IDN  {\"type\":\"Feature\",\"geometry\":{\"type\":\"LineStri...   \n",
              "1        IDN  {\"type\":\"Feature\",\"geometry\":{\"type\":\"LineStri...   \n",
              "2        IDN  {\"type\":\"Feature\",\"geometry\":{\"type\":\"LineStri...   \n",
              "3        IDN  {\"type\":\"Feature\",\"geometry\":{\"type\":\"LineStri...   \n",
              "4        IDN  {\"type\":\"Feature\",\"geometry\":{\"type\":\"LineStri...   \n",
              "\n",
              "                                            geometry  \n",
              "0  LINESTRING (111.811240911484 -8.14734736361994...  \n",
              "1  LINESTRING (112.001624107361 -7.80413737086135...  \n",
              "2  LINESTRING (102.287263870239 -3.80573141046796...  \n",
              "3  LINESTRING (102.638783454895 -2.30605543771412...  \n",
              "4  LINESTRING (101.406909227371 0.516404074379437...  "
            ],
            "text/html": [
              "\n",
              "  <div id=\"df-b81d56bf-0612-4709-9ef4-62940b04d263\">\n",
              "    <div class=\"colab-df-container\">\n",
              "      <div>\n",
              "<style scoped>\n",
              "    .dataframe tbody tr th:only-of-type {\n",
              "        vertical-align: middle;\n",
              "    }\n",
              "\n",
              "    .dataframe tbody tr th {\n",
              "        vertical-align: top;\n",
              "    }\n",
              "\n",
              "    .dataframe thead th {\n",
              "        text-align: right;\n",
              "    }\n",
              "</style>\n",
              "<table border=\"1\" class=\"dataframe\">\n",
              "  <thead>\n",
              "    <tr style=\"text-align: right;\">\n",
              "      <th></th>\n",
              "      <th>country_id</th>\n",
              "      <th>geom</th>\n",
              "      <th>geometry</th>\n",
              "    </tr>\n",
              "  </thead>\n",
              "  <tbody>\n",
              "    <tr>\n",
              "      <th>0</th>\n",
              "      <td>IDN</td>\n",
              "      <td>{\"type\":\"Feature\",\"geometry\":{\"type\":\"LineStri...</td>\n",
              "      <td>LINESTRING (111.811240911484 -8.14734736361994...</td>\n",
              "    </tr>\n",
              "    <tr>\n",
              "      <th>1</th>\n",
              "      <td>IDN</td>\n",
              "      <td>{\"type\":\"Feature\",\"geometry\":{\"type\":\"LineStri...</td>\n",
              "      <td>LINESTRING (112.001624107361 -7.80413737086135...</td>\n",
              "    </tr>\n",
              "    <tr>\n",
              "      <th>2</th>\n",
              "      <td>IDN</td>\n",
              "      <td>{\"type\":\"Feature\",\"geometry\":{\"type\":\"LineStri...</td>\n",
              "      <td>LINESTRING (102.287263870239 -3.80573141046796...</td>\n",
              "    </tr>\n",
              "    <tr>\n",
              "      <th>3</th>\n",
              "      <td>IDN</td>\n",
              "      <td>{\"type\":\"Feature\",\"geometry\":{\"type\":\"LineStri...</td>\n",
              "      <td>LINESTRING (102.638783454895 -2.30605543771412...</td>\n",
              "    </tr>\n",
              "    <tr>\n",
              "      <th>4</th>\n",
              "      <td>IDN</td>\n",
              "      <td>{\"type\":\"Feature\",\"geometry\":{\"type\":\"LineStri...</td>\n",
              "      <td>LINESTRING (101.406909227371 0.516404074379437...</td>\n",
              "    </tr>\n",
              "  </tbody>\n",
              "</table>\n",
              "</div>\n",
              "      <button class=\"colab-df-convert\" onclick=\"convertToInteractive('df-b81d56bf-0612-4709-9ef4-62940b04d263')\"\n",
              "              title=\"Convert this dataframe to an interactive table.\"\n",
              "              style=\"display:none;\">\n",
              "        \n",
              "  <svg xmlns=\"http://www.w3.org/2000/svg\" height=\"24px\"viewBox=\"0 0 24 24\"\n",
              "       width=\"24px\">\n",
              "    <path d=\"M0 0h24v24H0V0z\" fill=\"none\"/>\n",
              "    <path d=\"M18.56 5.44l.94 2.06.94-2.06 2.06-.94-2.06-.94-.94-2.06-.94 2.06-2.06.94zm-11 1L8.5 8.5l.94-2.06 2.06-.94-2.06-.94L8.5 2.5l-.94 2.06-2.06.94zm10 10l.94 2.06.94-2.06 2.06-.94-2.06-.94-.94-2.06-.94 2.06-2.06.94z\"/><path d=\"M17.41 7.96l-1.37-1.37c-.4-.4-.92-.59-1.43-.59-.52 0-1.04.2-1.43.59L10.3 9.45l-7.72 7.72c-.78.78-.78 2.05 0 2.83L4 21.41c.39.39.9.59 1.41.59.51 0 1.02-.2 1.41-.59l7.78-7.78 2.81-2.81c.8-.78.8-2.07 0-2.86zM5.41 20L4 18.59l7.72-7.72 1.47 1.35L5.41 20z\"/>\n",
              "  </svg>\n",
              "      </button>\n",
              "      \n",
              "  <style>\n",
              "    .colab-df-container {\n",
              "      display:flex;\n",
              "      flex-wrap:wrap;\n",
              "      gap: 12px;\n",
              "    }\n",
              "\n",
              "    .colab-df-convert {\n",
              "      background-color: #E8F0FE;\n",
              "      border: none;\n",
              "      border-radius: 50%;\n",
              "      cursor: pointer;\n",
              "      display: none;\n",
              "      fill: #1967D2;\n",
              "      height: 32px;\n",
              "      padding: 0 0 0 0;\n",
              "      width: 32px;\n",
              "    }\n",
              "\n",
              "    .colab-df-convert:hover {\n",
              "      background-color: #E2EBFA;\n",
              "      box-shadow: 0px 1px 2px rgba(60, 64, 67, 0.3), 0px 1px 3px 1px rgba(60, 64, 67, 0.15);\n",
              "      fill: #174EA6;\n",
              "    }\n",
              "\n",
              "    [theme=dark] .colab-df-convert {\n",
              "      background-color: #3B4455;\n",
              "      fill: #D2E3FC;\n",
              "    }\n",
              "\n",
              "    [theme=dark] .colab-df-convert:hover {\n",
              "      background-color: #434B5C;\n",
              "      box-shadow: 0px 1px 3px 1px rgba(0, 0, 0, 0.15);\n",
              "      filter: drop-shadow(0px 1px 2px rgba(0, 0, 0, 0.3));\n",
              "      fill: #FFFFFF;\n",
              "    }\n",
              "  </style>\n",
              "\n",
              "      <script>\n",
              "        const buttonEl =\n",
              "          document.querySelector('#df-b81d56bf-0612-4709-9ef4-62940b04d263 button.colab-df-convert');\n",
              "        buttonEl.style.display =\n",
              "          google.colab.kernel.accessAllowed ? 'block' : 'none';\n",
              "\n",
              "        async function convertToInteractive(key) {\n",
              "          const element = document.querySelector('#df-b81d56bf-0612-4709-9ef4-62940b04d263');\n",
              "          const dataTable =\n",
              "            await google.colab.kernel.invokeFunction('convertToInteractive',\n",
              "                                                     [key], {});\n",
              "          if (!dataTable) return;\n",
              "\n",
              "          const docLinkHtml = 'Like what you see? Visit the ' +\n",
              "            '<a target=\"_blank\" href=https://colab.research.google.com/notebooks/data_table.ipynb>data table notebook</a>'\n",
              "            + ' to learn more about interactive tables.';\n",
              "          element.innerHTML = '';\n",
              "          dataTable['output_type'] = 'display_data';\n",
              "          await google.colab.output.renderOutput(dataTable, element);\n",
              "          const docLink = document.createElement('div');\n",
              "          docLink.innerHTML = docLinkHtml;\n",
              "          element.appendChild(docLink);\n",
              "        }\n",
              "      </script>\n",
              "    </div>\n",
              "  </div>\n",
              "  "
            ]
          },
          "metadata": {},
          "execution_count": 16
        }
      ]
    },
    {
      "cell_type": "code",
      "source": [
        "# make a geodataframe out of the converted geometry\n",
        "gdf = gpd.GeoDataFrame(selected_data, geometry=\"geometry\")\n",
        "print(gdf.head())"
      ],
      "metadata": {
        "colab": {
          "base_uri": "https://localhost:8080/"
        },
        "id": "LsKhcTdtvgYJ",
        "outputId": "68d2b083-3ee7-4b48-a7f2-65e15a9fbb54"
      },
      "execution_count": 17,
      "outputs": [
        {
          "output_type": "stream",
          "name": "stdout",
          "text": [
            "  country_id                                               geom  \\\n",
            "0        IDN  {\"type\":\"Feature\",\"geometry\":{\"type\":\"LineStri...   \n",
            "1        IDN  {\"type\":\"Feature\",\"geometry\":{\"type\":\"LineStri...   \n",
            "2        IDN  {\"type\":\"Feature\",\"geometry\":{\"type\":\"LineStri...   \n",
            "3        IDN  {\"type\":\"Feature\",\"geometry\":{\"type\":\"LineStri...   \n",
            "4        IDN  {\"type\":\"Feature\",\"geometry\":{\"type\":\"LineStri...   \n",
            "\n",
            "                                            geometry  \n",
            "0  LINESTRING (111.81124 -8.14735, 111.81163 -8.1...  \n",
            "1  LINESTRING (112.00162 -7.80414, 112.00127 -7.8...  \n",
            "2  LINESTRING (102.28726 -3.80573, 102.28734 -3.8...  \n",
            "3  LINESTRING (102.63878 -2.30606, 102.64088 -2.3...  \n",
            "4  LINESTRING (101.40691 0.51640, 101.40614 0.516...  \n"
          ]
        }
      ]
    },
    {
      "cell_type": "code",
      "source": [
        "# Plot the data\n",
        "ax = gdf.plot(figsize=(15, 15))\n",
        "ax.axis('off')"
      ],
      "metadata": {
        "colab": {
          "base_uri": "https://localhost:8080/",
          "height": 354
        },
        "id": "02LZjnEF-5w5",
        "outputId": "51b7f0bc-e908-4734-8227-239c6e8d647a"
      },
      "execution_count": 19,
      "outputs": [
        {
          "output_type": "execute_result",
          "data": {
            "text/plain": [
              "(92.7301030755043, 143.3660776019097, -11.777370984239026, 6.747422083670093)"
            ]
          },
          "metadata": {},
          "execution_count": 19
        },
        {
          "output_type": "display_data",
          "data": {
            "text/plain": [
              "<Figure size 1080x1080 with 1 Axes>"
            ],
            "image/png": "[encoded data removed]"
          },
          "metadata": {
            "needs_background": "light"
          }
        }
      ]
    },
    {
      "cell_type": "code",
      "source": [
        "# export to gpkg\n",
        "gdf.to_file(selected_country+\".gpkg\", driver=\"GPKG\")"
      ],
      "metadata": {
        "id": "mgiVpe83_I63"
      },
      "execution_count": 24,
      "outputs": []
    },
    {
      "cell_type": "code",
      "source": [
        "# download the GPKG file\n",
        "from google.colab import files\n",
        "files.download(selected_country+\".gpkg\") "
      ],
      "metadata": {
        "colab": {
          "base_uri": "https://localhost:8080/",
          "height": 17
        },
        "id": "xwUAuUZFCYL0",
        "outputId": "21bc9300-c8ff-4041-a4eb-fc507aa12b65"
      },
      "execution_count": 25,
      "outputs": [
        {
          "output_type": "display_data",
          "data": {
            "text/plain": [
              "<IPython.core.display.Javascript object>"
            ],
            "application/javascript": [
              "\n",
              "    async function download(id, filename, size) {\n",
              "      if (!google.colab.kernel.accessAllowed) {\n",
              "        return;\n",
              "      }\n",
              "      const div = document.createElement('div');\n",
              "      const label = document.createElement('label');\n",
              "      label.textContent = `Downloading \"${filename}\": `;\n",
              "      div.appendChild(label);\n",
              "      const progress = document.createElement('progress');\n",
              "      progress.max = size;\n",
              "      div.appendChild(progress);\n",
              "      document.body.appendChild(div);\n",
              "\n",
              "      const buffers = [];\n",
              "      let downloaded = 0;\n",
              "\n",
              "      const channel = await google.colab.kernel.comms.open(id);\n",
              "      // Send a message to notify the kernel that we're ready.\n",
              "      channel.send({})\n",
              "\n",
              "      for await (const message of channel.messages) {\n",
              "        // Send a message to notify the kernel that we're ready.\n",
              "        channel.send({})\n",
              "        if (message.buffers) {\n",
              "          for (const buffer of message.buffers) {\n",
              "            buffers.push(buffer);\n",
              "            downloaded += buffer.byteLength;\n",
              "            progress.value = downloaded;\n",
              "          }\n",
              "        }\n",
              "      }\n",
              "      const blob = new Blob(buffers, {type: 'application/binary'});\n",
              "      const a = document.createElement('a');\n",
              "      a.href = window.URL.createObjectURL(blob);\n",
              "      a.download = filename;\n",
              "      div.appendChild(a);\n",
              "      a.click();\n",
              "      div.remove();\n",
              "    }\n",
              "  "
            ]
          },
          "metadata": {}
        },
        {
          "output_type": "display_data",
          "data": {
            "text/plain": [
              "<IPython.core.display.Javascript object>"
            ],
            "application/javascript": [
              "download(\"download_a53c6b96-4490-4ede-a0ef-aa9a46688dd8\", \"IDN.gpkg\", 722624512)"
            ]
          },
          "metadata": {}
        }
      ]
    },
    {
      "cell_type": "code",
      "source": [],
      "metadata": {
        "id": "Ts5mKqxWI_Sa"
      },
      "execution_count": null,
      "outputs": []
    }
  ]
}